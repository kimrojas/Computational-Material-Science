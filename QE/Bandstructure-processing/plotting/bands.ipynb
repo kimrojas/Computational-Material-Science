{
 "cells": [
  {
   "cell_type": "markdown",
   "metadata": {},
   "source": [
    "# Initialize packages"
   ]
  },
  {
   "cell_type": "code",
   "execution_count": 1,
   "metadata": {},
   "outputs": [],
   "source": [
    "import matplotlib as mpl\n",
    "mpl.use('Agg')\n",
    "import matplotlib.pyplot as plt\n",
    "import numpy as np\n",
    "import re"
   ]
  },
  {
   "cell_type": "code",
   "execution_count": 2,
   "metadata": {},
   "outputs": [],
   "source": [
    "def parse_filband(feig, npl=10):\n",
    "    # feig : filband in bands.x input file\n",
    "    # npl : number per line, 10 for bands.x, 6 for phonon\n",
    "\n",
    "    f=open(feig,'r')\n",
    "    lines = f.readlines()\n",
    "\n",
    "    header = lines[0].strip()\n",
    "    line = header.strip('\\n')\n",
    "    shape = re.split('[,=/]', line)\n",
    "    nbnd = int(shape[1])\n",
    "    nks = int(shape[3])\n",
    "    eig = np.zeros((nks, nbnd+1), dtype=np.float32)\n",
    "\n",
    "    dividend = nbnd\n",
    "    divisor = npl\n",
    "    div = nbnd // npl + 1 if nbnd % npl == 0 else nbnd // npl + 2 \n",
    "    kinfo=[]\n",
    "    for index, value in enumerate(lines[1:]):\n",
    "        value = value.strip(' \\n')\n",
    "        quotient = index // div\n",
    "        remainder = index % div\n",
    "\n",
    "        if remainder == 0:\n",
    "            kinfo.append(value)\n",
    "        else:\n",
    "            value = re.split('[ ]+', value)\n",
    "            a = (remainder - 1) * npl\n",
    "            b = a + len(value)\n",
    "            eig[quotient][a:b] = value\n",
    "\n",
    "    f.close()\n",
    "\n",
    "    return eig, nbnd, nks, kinfo\n",
    "\n",
    "e_ref= 1.6406 # set to fermi-level in scf output for metal, only applicable for do_find_gap=False\n",
    "\n",
    "band_plot = plt.figure(figsize=(7,5))\n",
    "ymin=-6  # y range in plot\n",
    "ymax=4\n",
    "lw=1 # line width\n",
    "\n",
    "eig, nbnd, nks, kinfo = parse_filband('mos2.bands.dat')\n",
    "\n",
    "plt.xlim([0,nks-1]) # k-points\n",
    "plt.ylim([ymin,ymax])\n",
    "#plt.xlabel(r'$k (\\AA^{-1})$',fontsize=16)\n",
    "plt.ylabel('E-E$\\mathrm{_F}$ (eV)',fontsize=16)\n",
    "\n",
    "nvband = 17\n",
    "eig_vbm = -(e_ref-0.6769)\n",
    "eig_cbm = 2.3459-e_ref\n",
    "\n",
    "for i in range(nbnd):\n",
    "    line1=plt.plot( eig[:,i]-e_ref,color='black' ,linewidth=1)\n",
    "\n",
    "#vlines= np.arange(0, nks, 20) # positions of vertical lines, or specified by [0, 20, 40, ...]\n",
    "#for vline in vlines:\n",
    "#    plt.axvline(x=vline, ymin=ymin, ymax=ymax,linewidth=lw,color='black')\n",
    "\n",
    "plt.axvline(x=0, label = r'${\\Gamma}$', color = 'black')\n",
    "plt.axvline(x=30, label = 'M', color = 'black')\n",
    "plt.axvline(x=50, label = 'K', color = 'black', zorder = 0)\n",
    "plt.axvline(x=80, label = r'${\\Gamma}$', color = 'black')\n",
    "\n",
    "plt.arrow(50, 0, 0, eig_cbm, width = 0.2, color = 'red', length_includes_head=True, head_width=0.5, head_length=0.2, zorder = 1)\n",
    "plt.arrow(50, 0, 0, eig_vbm, width = 0.2, color ='red', length_includes_head=True, head_width=0.5, head_length=0.2, zorder = 1)\n",
    "\n",
    "#locs, labels = xticks()  # Get the current locations and labels.\n",
    "plt.xticks([0, 30, 50, 80], [r'${\\Gamma}$', 'M', 'K', r'${\\Gamma}$'])\n",
    "\n",
    "plt.axhline(y=0, label = 'Fermi Energy', ls='--', color ='blue')\n",
    "\n",
    "fname = \"bands.png\"\n",
    "band_plot.savefig(fname, dpi=500, transparent=True, bbox_inches='tight')"
   ]
  }
 ],
 "metadata": {
  "kernelspec": {
   "display_name": "Python 3",
   "language": "python",
   "name": "python3"
  },
  "language_info": {
   "codemirror_mode": {
    "name": "ipython",
    "version": 3
   },
   "file_extension": ".py",
   "mimetype": "text/x-python",
   "name": "python",
   "nbconvert_exporter": "python",
   "pygments_lexer": "ipython3",
   "version": "3.8.5"
  }
 },
 "nbformat": 4,
 "nbformat_minor": 4
}
